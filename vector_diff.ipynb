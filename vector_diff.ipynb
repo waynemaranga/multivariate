{
 "cells": [
  {
   "cell_type": "markdown",
   "metadata": {},
   "source": [
    "# VECTOR DIFFERENTIAL CALCULUS"
   ]
  },
  {
   "cell_type": "markdown",
   "metadata": {},
   "source": [
    "1. Dot Product/Inner Product\n",
    "2. Cross Product\n",
    "3. Scalar Triple Product\n",
    "4. Derivatives & Partial Derivatives\n",
    "5. Arc lengths\n",
    "6. Gradient of a Scalar Field and Directional Derivatives\n",
    "7. Potentials and Laplacians\n",
    "8. Divergence\n",
    "9. Curl"
   ]
  },
  {
   "cell_type": "code",
   "execution_count": null,
   "metadata": {},
   "outputs": [],
   "source": [
    "import numpy as np\n",
    "import matplotlib as mp\n",
    "import sympy as sp\n"
   ]
  }
 ],
 "metadata": {
  "kernelspec": {
   "display_name": "Python 3.10.6 ('usr')",
   "language": "python",
   "name": "python3"
  },
  "language_info": {
   "name": "python",
   "version": "3.10.6"
  },
  "orig_nbformat": 4,
  "vscode": {
   "interpreter": {
    "hash": "eb36fc788eeb7e07605c576ad097719e080e30b07ebbb4c6c939cff0b59a5025"
   }
  }
 },
 "nbformat": 4,
 "nbformat_minor": 2
}
