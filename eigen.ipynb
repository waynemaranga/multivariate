{
 "cells": [
  {
   "cell_type": "markdown",
   "metadata": {},
   "source": [
    "# EIGENVALUE PROBLEMS"
   ]
  },
  {
   "cell_type": "markdown",
   "metadata": {},
   "source": [
    "1. Eigenvalues\n",
    "2. Eigenvectors\n",
    "3. Eigenlines and Eigenspace\n",
    "4. Applications"
   ]
  },
  {
   "cell_type": "code",
   "execution_count": 2,
   "metadata": {},
   "outputs": [],
   "source": [
    "import numpy as np\n",
    "import matplotlib as mp"
   ]
  },
  {
   "cell_type": "code",
   "execution_count": 3,
   "metadata": {},
   "outputs": [
    {
     "name": "stdout",
     "output_type": "stream",
     "text": [
      "[[-2  2 -3]\n",
      " [ 2  1 -6]\n",
      " [-1  2  0]]\n",
      "<class 'numpy.ndarray'>\n"
     ]
    }
   ],
   "source": [
    "A = np.array([\n",
    "    [-2,2,-3],\n",
    "    [2,1,-6],\n",
    "    [-1,2,0]\n",
    "])\n",
    "\n",
    "print(A)\n",
    "print(type(A))"
   ]
  },
  {
   "cell_type": "code",
   "execution_count": 4,
   "metadata": {},
   "outputs": [
    {
     "name": "stdout",
     "output_type": "stream",
     "text": [
      "Result 1:\n",
      " [-3.+0.j          1.+2.82842712j  1.-2.82842712j] \n",
      "Result 2:\n",
      "(array([-3.+0.j        ,  1.+2.82842712j,  1.-2.82842712j]), array([[-9.48683298e-01+0.00000000e+00j,  4.08248290e-01+4.15958896e-16j,\n",
      "         4.08248290e-01-4.15958896e-16j],\n",
      "       [ 2.78100526e-17+0.00000000e+00j,  8.16496581e-01+0.00000000e+00j,\n",
      "         8.16496581e-01-0.00000000e+00j],\n",
      "       [-3.16227766e-01+0.00000000e+00j,  1.36082763e-01-3.84900179e-01j,\n",
      "         1.36082763e-01+3.84900179e-01j]]))\n"
     ]
    }
   ],
   "source": [
    "eigvals_A = np.linalg.eigvals(A)\n",
    "eig_A = np.linalg.eig(A)\n",
    "\n",
    "print(\"Result 1:\\n {0} \\nResult 2:\\n{1}\" .format(eigvals_A,eig_A))"
   ]
  },
  {
   "cell_type": "code",
   "execution_count": null,
   "metadata": {},
   "outputs": [],
   "source": []
  }
 ],
 "metadata": {
  "kernelspec": {
   "display_name": "Python 3.10.6 ('venv': venv)",
   "language": "python",
   "name": "python3"
  },
  "language_info": {
   "codemirror_mode": {
    "name": "ipython",
    "version": 3
   },
   "file_extension": ".py",
   "mimetype": "text/x-python",
   "name": "python",
   "nbconvert_exporter": "python",
   "pygments_lexer": "ipython3",
   "version": "3.10.6"
  },
  "orig_nbformat": 4,
  "vscode": {
   "interpreter": {
    "hash": "869b2f51a52dde8aab9afb6b9014f64d40aa00570b3c95e8ae1ee0ababf7856b"
   }
  }
 },
 "nbformat": 4,
 "nbformat_minor": 2
}
