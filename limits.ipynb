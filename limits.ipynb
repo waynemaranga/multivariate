{
 "cells": [
  {
   "cell_type": "markdown",
   "metadata": {},
   "source": [
    "# LIMITS"
   ]
  },
  {
   "cell_type": "code",
   "execution_count": null,
   "metadata": {},
   "outputs": [],
   "source": [
    "import numpy as np\n",
    "import matplotlib as mp\n",
    "import sympy as sp"
   ]
  },
  {
   "cell_type": "markdown",
   "metadata": {},
   "source": [
    "#### Basic syntax: \n",
    "`sympy.limit(function,variable,value)`"
   ]
  },
  {
   "cell_type": "code",
   "execution_count": null,
   "metadata": {},
   "outputs": [],
   "source": [
    "x = sp.Symbol('x')\n",
    "f = sp.sin(x)/x\n",
    "L = sp.limit(f,x,0)\n",
    "print(\"The Limit is:\",L)"
   ]
  },
  {
   "cell_type": "markdown",
   "metadata": {},
   "source": [
    "Methods:\n",
    "\n",
    "`sympy.Symbol()` overrides available symbols using the Symbol class from sympy\n",
    "\n",
    "`sympy.sin()` returns the trigonometric sine in radians\n",
    "\n",
    "`sympy.limit()` returns the limit of the function. Positional arguments taken are the function, the variable and what the limit approaches"
   ]
  },
  {
   "cell_type": "markdown",
   "metadata": {},
   "source": []
  }
 ],
 "metadata": {
  "kernelspec": {
   "display_name": "Python 3.10.6 ('usr')",
   "language": "python",
   "name": "python3"
  },
  "language_info": {
   "name": "python",
   "version": "3.10.6"
  },
  "orig_nbformat": 4,
  "vscode": {
   "interpreter": {
    "hash": "eb36fc788eeb7e07605c576ad097719e080e30b07ebbb4c6c939cff0b59a5025"
   }
  }
 },
 "nbformat": 4,
 "nbformat_minor": 2
}
