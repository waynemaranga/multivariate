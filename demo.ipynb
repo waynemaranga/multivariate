{
 "cells": [
  {
   "cell_type": "raw",
   "id": "09a24193",
   "metadata": {},
   "source": [
    "---\n",
    "title: 🚀 Demo notebook\n",
    "description: Simple notebook with widgets demo\n",
    "params:\n",
    "    year:\n",
    "        input: slider\n",
    "        label: Please select the year\n",
    "        min: 2000\n",
    "        max: 2100\n",
    "        value: 2022\n",
    "    greetings:\n",
    "        input: select\n",
    "        label: Please select greetings\n",
    "        value: Hello\n",
    "        choices: [Cześć, Hello, Hi, Ciao, Salut]\n",
    "    name:\n",
    "        input: text\n",
    "        label: What is your name?\n",
    "        value: Piotr\n",
    "    ---"
   ]
  },
  {
   "cell_type": "markdown",
   "id": "0c291e7f",
   "metadata": {},
   "source": [
    "# 🚀 Demo notebook with greetings 👋"
   ]
  },
  {
   "cell_type": "code",
   "execution_count": null,
   "id": "26ace84e",
   "metadata": {},
   "outputs": [],
   "source": [
    "year = 2022\n",
    "greetings = \"Hello\"\n",
    "name = \"Piotr\""
   ]
  },
  {
   "cell_type": "code",
   "execution_count": null,
   "id": "7cd52c8f",
   "metadata": {},
   "outputs": [],
   "source": [
    "print(f\"{greetings} {name} in {year}\")"
   ]
  }
 ],
 "metadata": {},
 "nbformat": 4,
 "nbformat_minor": 5
}
