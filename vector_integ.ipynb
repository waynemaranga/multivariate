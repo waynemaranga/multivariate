{
 "cells": [
  {
   "cell_type": "markdown",
   "metadata": {},
   "source": [
    "# VECTOR INTEGRAL CALCULUS"
   ]
  },
  {
   "cell_type": "markdown",
   "metadata": {},
   "source": [
    "1. Line Integrals\n",
    "2. Path Independece of Line Integrals\n",
    "3. Double Integrals\n",
    "4. Green's Theorem in the plane\n",
    "5. Surfaces of Surface Integrals\n",
    "6. Surface Integrals\n",
    "7. Triple Integrals\n",
    "8. Divergence Theorem of Gauss\n",
    "9. Stokes's Theorem\n"
   ]
  },
  {
   "cell_type": "code",
   "execution_count": 1,
   "metadata": {},
   "outputs": [],
   "source": [
    "import numpy as np\n",
    "import matplotlib as mp\n",
    "import scipy as sc\n",
    "import sympy as sp"
   ]
  },
  {
   "cell_type": "code",
   "execution_count": null,
   "metadata": {},
   "outputs": [],
   "source": []
  }
 ],
 "metadata": {
  "kernelspec": {
   "display_name": "Python 3.10.6 ('usr')",
   "language": "python",
   "name": "python3"
  },
  "language_info": {
   "codemirror_mode": {
    "name": "ipython",
    "version": 3
   },
   "file_extension": ".py",
   "mimetype": "text/x-python",
   "name": "python",
   "nbconvert_exporter": "python",
   "pygments_lexer": "ipython3",
   "version": "3.10.6"
  },
  "orig_nbformat": 4,
  "vscode": {
   "interpreter": {
    "hash": "eb36fc788eeb7e07605c576ad097719e080e30b07ebbb4c6c939cff0b59a5025"
   }
  }
 },
 "nbformat": 4,
 "nbformat_minor": 2
}
